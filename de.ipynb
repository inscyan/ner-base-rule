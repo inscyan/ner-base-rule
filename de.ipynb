{
 "cells": [
  {
   "cell_type": "code",
   "execution_count": 2,
   "metadata": {},
   "outputs": [],
   "source": [
    "import pandas as pd"
   ]
  },
  {
   "cell_type": "code",
   "execution_count": 3,
   "metadata": {},
   "outputs": [],
   "source": [
    "train = pd.read_csv('data/train/train.csv')"
   ]
  },
  {
   "cell_type": "code",
   "execution_count": 4,
   "metadata": {},
   "outputs": [
    {
     "data": {
      "text/html": [
       "<div>\n",
       "<style scoped>\n",
       "    .dataframe tbody tr th:only-of-type {\n",
       "        vertical-align: middle;\n",
       "    }\n",
       "\n",
       "    .dataframe tbody tr th {\n",
       "        vertical-align: top;\n",
       "    }\n",
       "\n",
       "    .dataframe thead th {\n",
       "        text-align: right;\n",
       "    }\n",
       "</style>\n",
       "<table border=\"1\" class=\"dataframe\">\n",
       "  <thead>\n",
       "    <tr style=\"text-align: right;\">\n",
       "      <th></th>\n",
       "      <th>id</th>\n",
       "      <th>text</th>\n",
       "      <th>n_crop</th>\n",
       "      <th>n_disease</th>\n",
       "      <th>n_medicine</th>\n",
       "    </tr>\n",
       "  </thead>\n",
       "  <tbody>\n",
       "    <tr>\n",
       "      <th>0</th>\n",
       "      <td>1-1</td>\n",
       "      <td>疫病危害/n_disease ，建议选用/n_new 68·75%霜霉威/n_medicin...</td>\n",
       "      <td>[]</td>\n",
       "      <td>['疫病危害']</td>\n",
       "      <td>['霜霉威', '菌胺', '烯酰吗啉', '湿性粉剂']</td>\n",
       "    </tr>\n",
       "    <tr>\n",
       "      <th>1</th>\n",
       "      <td>1-2</td>\n",
       "      <td>疫病/n_disease 炭疽病/n_disease 为害/v ，用/p 银法利/nrf 和...</td>\n",
       "      <td>[]</td>\n",
       "      <td>['疫病', '炭疽病']</td>\n",
       "      <td>['苯甲溴菌腈']</td>\n",
       "    </tr>\n",
       "    <tr>\n",
       "      <th>2</th>\n",
       "      <td>1-3</td>\n",
       "      <td>炭疽病/n_disease 危害/v 使用/v 肟菌戊唑醇/n_medicine 或/c 苯...</td>\n",
       "      <td>[]</td>\n",
       "      <td>['炭疽病']</td>\n",
       "      <td>['肟菌戊唑醇', '苯甲丙环唑']</td>\n",
       "    </tr>\n",
       "    <tr>\n",
       "      <th>3</th>\n",
       "      <td>2-1</td>\n",
       "      <td>高温灼伤/n_disease 或/c 药害/n_new 等/udeng 外力/n 损伤造成/...</td>\n",
       "      <td>[]</td>\n",
       "      <td>['高温灼伤']</td>\n",
       "      <td>['碧护']</td>\n",
       "    </tr>\n",
       "    <tr>\n",
       "      <th>4</th>\n",
       "      <td>2-2</td>\n",
       "      <td>日/ng 灼/vg 斑/n 。/wj 叶面喷施/n_new 碧护/n_medicine 和/...</td>\n",
       "      <td>[]</td>\n",
       "      <td>[]</td>\n",
       "      <td>['碧护', '螯合钙']</td>\n",
       "    </tr>\n",
       "  </tbody>\n",
       "</table>\n",
       "</div>"
      ],
      "text/plain": [
       "    id                                               text n_crop  \\\n",
       "0  1-1  疫病危害/n_disease ，建议选用/n_new 68·75%霜霉威/n_medicin...     []   \n",
       "1  1-2  疫病/n_disease 炭疽病/n_disease 为害/v ，用/p 银法利/nrf 和...     []   \n",
       "2  1-3  炭疽病/n_disease 危害/v 使用/v 肟菌戊唑醇/n_medicine 或/c 苯...     []   \n",
       "3  2-1  高温灼伤/n_disease 或/c 药害/n_new 等/udeng 外力/n 损伤造成/...     []   \n",
       "4  2-2  日/ng 灼/vg 斑/n 。/wj 叶面喷施/n_new 碧护/n_medicine 和/...     []   \n",
       "\n",
       "       n_disease                     n_medicine  \n",
       "0       ['疫病危害']  ['霜霉威', '菌胺', '烯酰吗啉', '湿性粉剂']  \n",
       "1  ['疫病', '炭疽病']                      ['苯甲溴菌腈']  \n",
       "2        ['炭疽病']             ['肟菌戊唑醇', '苯甲丙环唑']  \n",
       "3       ['高温灼伤']                         ['碧护']  \n",
       "4             []                  ['碧护', '螯合钙']  "
      ]
     },
     "execution_count": 4,
     "metadata": {},
     "output_type": "execute_result"
    }
   ],
   "source": [
    "train.head()"
   ]
  },
  {
   "cell_type": "code",
   "execution_count": 5,
   "metadata": {},
   "outputs": [
    {
     "name": "stdout",
     "output_type": "stream",
     "text": [
      "<class 'pandas.core.frame.DataFrame'>\n",
      "RangeIndex: 2790 entries, 0 to 2789\n",
      "Data columns (total 5 columns):\n",
      "id            2790 non-null object\n",
      "text          2790 non-null object\n",
      "n_crop        2790 non-null object\n",
      "n_disease     2790 non-null object\n",
      "n_medicine    2790 non-null object\n",
      "dtypes: object(5)\n",
      "memory usage: 109.1+ KB\n"
     ]
    }
   ],
   "source": [
    "train.info()"
   ]
  },
  {
   "cell_type": "code",
   "execution_count": 6,
   "metadata": {},
   "outputs": [
    {
     "data": {
      "text/plain": [
       "(2790, 5)"
      ]
     },
     "execution_count": 6,
     "metadata": {},
     "output_type": "execute_result"
    }
   ],
   "source": [
    "train.shape"
   ]
  },
  {
   "cell_type": "code",
   "execution_count": 7,
   "metadata": {},
   "outputs": [],
   "source": [
    "n_crop = []\n",
    "n_disease = []\n",
    "n_medicine = []\n",
    "\n",
    "for _, row in train.iterrows():\n",
    "    n_crop += eval(row['n_crop'])\n",
    "    n_disease += eval(row['n_disease'])\n",
    "    n_medicine += eval(row['n_medicine'])"
   ]
  },
  {
   "cell_type": "code",
   "execution_count": 11,
   "metadata": {},
   "outputs": [
    {
     "data": {
      "text/plain": [
       "207"
      ]
     },
     "execution_count": 11,
     "metadata": {},
     "output_type": "execute_result"
    }
   ],
   "source": [
    "len(n_crop)"
   ]
  },
  {
   "cell_type": "code",
   "execution_count": 8,
   "metadata": {},
   "outputs": [
    {
     "data": {
      "text/plain": [
       "8"
      ]
     },
     "execution_count": 8,
     "metadata": {},
     "output_type": "execute_result"
    }
   ],
   "source": [
    "len(set(n_crop))"
   ]
  },
  {
   "cell_type": "code",
   "execution_count": 12,
   "metadata": {},
   "outputs": [
    {
     "data": {
      "text/plain": [
       "3595"
      ]
     },
     "execution_count": 12,
     "metadata": {},
     "output_type": "execute_result"
    }
   ],
   "source": [
    "len(n_disease)"
   ]
  },
  {
   "cell_type": "code",
   "execution_count": 9,
   "metadata": {},
   "outputs": [
    {
     "data": {
      "text/plain": [
       "147"
      ]
     },
     "execution_count": 9,
     "metadata": {},
     "output_type": "execute_result"
    }
   ],
   "source": [
    "len(set(n_disease))"
   ]
  },
  {
   "cell_type": "code",
   "execution_count": 13,
   "metadata": {},
   "outputs": [
    {
     "data": {
      "text/plain": [
       "8953"
      ]
     },
     "execution_count": 13,
     "metadata": {},
     "output_type": "execute_result"
    }
   ],
   "source": [
    "len(n_medicine)"
   ]
  },
  {
   "cell_type": "code",
   "execution_count": 10,
   "metadata": {},
   "outputs": [
    {
     "data": {
      "text/plain": [
       "244"
      ]
     },
     "execution_count": 10,
     "metadata": {},
     "output_type": "execute_result"
    }
   ],
   "source": [
    "len(set(n_medicine))"
   ]
  },
  {
   "cell_type": "code",
   "execution_count": 14,
   "metadata": {},
   "outputs": [],
   "source": [
    "# 生成同义词典\n",
    "\n",
    "synonym_dict = {'n_crop': n_crop, 'n_disease': n_disease, 'n_medicine': n_medicine}\n",
    "df_writer = pd.ExcelWriter('data/synonym_dict/synonym_dict.xlsx')\n",
    "\n",
    "for k, v in synonym_dict.items():\n",
    "    v = list(set(v))\n",
    "    pd.DataFrame(zip(v, v), columns=['标准词', '同义词']).to_excel(df_writer, sheet_name=k, index=False)\n",
    "\n",
    "df_writer.save()"
   ]
  },
  {
   "cell_type": "code",
   "execution_count": 15,
   "metadata": {},
   "outputs": [],
   "source": [
    "# 生成同义词典（逆向）\n",
    "\n",
    "synonym_dict_reverse = {'n_crop': n_crop, 'n_disease': n_disease, 'n_medicine': n_medicine}\n",
    "df_writer = pd.ExcelWriter('data/synonym_dict/synonym_dict_reverse.xlsx')\n",
    "\n",
    "for k, v in synonym_dict.items():\n",
    "    v = list(set(v))\n",
    "    v = list(map(lambda x: x[::-1], v))\n",
    "    pd.DataFrame(zip(v, v), columns=['标准词', '同义词']).to_excel(df_writer, sheet_name=k, index=False)\n",
    "\n",
    "df_writer.save()"
   ]
  },
  {
   "cell_type": "code",
   "execution_count": null,
   "metadata": {},
   "outputs": [],
   "source": []
  }
 ],
 "metadata": {
  "kernelspec": {
   "display_name": "Python 3",
   "language": "python",
   "name": "python3"
  },
  "language_info": {
   "codemirror_mode": {
    "name": "ipython",
    "version": 3
   },
   "file_extension": ".py",
   "mimetype": "text/x-python",
   "name": "python",
   "nbconvert_exporter": "python",
   "pygments_lexer": "ipython3",
   "version": "3.6.5"
  }
 },
 "nbformat": 4,
 "nbformat_minor": 2
}
